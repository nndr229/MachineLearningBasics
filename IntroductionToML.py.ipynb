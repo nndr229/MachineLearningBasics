{
 "cells": [
  {
   "cell_type": "markdown",
   "metadata": {},
   "source": [
    "# 3 Types of learning in ML and AI"
   ]
  },
  {
   "cell_type": "markdown",
   "metadata": {},
   "source": [
    "1. Supervised Learning"
   ]
  },
  {
   "cell_type": "markdown",
   "metadata": {},
   "source": [
    "2. Unsupervised Learning"
   ]
  },
  {
   "cell_type": "markdown",
   "metadata": {},
   "source": [
    "3. Reinforcement Learning"
   ]
  },
  {
   "cell_type": "markdown",
   "metadata": {},
   "source": [
    "## Supervised Learning"
   ]
  },
  {
   "cell_type": "markdown",
   "metadata": {},
   "source": [
    "We Give the algorithm the right answers! <br>\n",
    "<br>\n",
    "During the training procecdure:<br>\n",
    "    --> We give inputs to the Algorithm from our dataset<br> \n",
    "    --> The algorithm gives an output with a label<br>\n",
    "    The aim is to make sure the prediction of the neural network is approximately the same as the label in the dataset."
   ]
  },
  {
   "cell_type": "markdown",
   "metadata": {},
   "source": [
    "## Unsupervised Learning"
   ]
  },
  {
   "cell_type": "markdown",
   "metadata": {},
   "source": [
    "We do not give the algorithm the right answers! Our dataset does not have lables.<br>\n",
    "The algorithm will find patterns in this unlabeled dataset. eg. Clustering algorithms!<br>\n",
    "<br>\n",
    "During the training procecdure:<br>\n",
    "    --> The algorithm will find some relevant features to make the classification.    "
   ]
  },
  {
   "cell_type": "markdown",
   "metadata": {},
   "source": [
    "## Reinforcement Learning "
   ]
  },
  {
   "cell_type": "markdown",
   "metadata": {},
   "source": [
    "We do not have a dataset at all!<br>\n",
    "The artificial intelligence agent will interact with the environment(states) and figure out what to do(actions).<br>\n",
    "Upon performing actions the agent will recevie a reward/penalty."
   ]
  },
  {
   "cell_type": "raw",
   "metadata": {},
   "source": [
    " ________>\n",
    "|  ______>AGENT---------\n",
    "| |                    |\n",
    "| |                    |\n",
    "| |__<___              |\n",
    "|____<___ ENVIRONMENT<-|\n"
   ]
  },
  {
   "cell_type": "markdown",
   "metadata": {},
   "source": [
    "Can be used to learn to play **tic-tac-toe** game<br>\n",
    "**Environment** --> cells on the board.<br>\n",
    "**agent** --> Computer. Makes a move according to board states.<br>\n",
    "**move** --> Where to put X.<br>\n",
    "**game end** --> *Agent* will recive reward (*win*) or penalty(*lose*)."
   ]
  },
  {
   "cell_type": "markdown",
   "metadata": {},
   "source": [
    "**------------------END--------------------------**"
   ]
  },
  {
   "cell_type": "code",
   "execution_count": null,
   "metadata": {},
   "outputs": [],
   "source": []
  }
 ],
 "metadata": {
  "kernelspec": {
   "display_name": "Python 3",
   "language": "python",
   "name": "python3"
  },
  "language_info": {
   "codemirror_mode": {
    "name": "ipython",
    "version": 3
   },
   "file_extension": ".py",
   "mimetype": "text/x-python",
   "name": "python",
   "nbconvert_exporter": "python",
   "pygments_lexer": "ipython3",
   "version": "3.7.4"
  }
 },
 "nbformat": 4,
 "nbformat_minor": 2
}
