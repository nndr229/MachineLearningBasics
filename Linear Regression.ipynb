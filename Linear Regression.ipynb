{
 "cells": [
  {
   "cell_type": "markdown",
   "metadata": {},
   "source": [
    "# Linear Regression"
   ]
  },
  {
   "cell_type": "markdown",
   "metadata": {},
   "source": [
    "**It is a method for modelling the relationship between a 'dependent' scalar variable $y$ and one or more 'explanatory' variables $\\overrightarrow{x}$.** "
   ]
  },
  {
   "cell_type": "markdown",
   "metadata": {},
   "source": [
    "## Simple Linear Regression "
   ]
  },
  {
   "cell_type": "markdown",
   "metadata": {},
   "source": [
    "1.Single explanatory value.<br>\n",
    "2.We want to approximate price of houses if we know sizes.<br>\n",
    "<br>\n",
    "$\\ H(x) = b_0 + b_1x $<br>\n",
    "<br>\n",
    "*Where*<br>\n",
    "$\\ H(x) $ is the the **dependent** variable(What we are trying to predict).<br> \n",
    "$\\ x $    is the the **independent/explanatory** variable(What we use to make predictions).<br> \n",
    "\n",
    "The equation above is the equation of a **straight line**.<br>\n",
    "**What does this mean??**<br>\n",
    "If we have a new $\\ x $ (size of the house)  we can get the approximate price for that size $\\ H(x) $.\n",
    "<br>\n",
    "We find $\\ b_0 $  and $\\ b_1 $ using **optimization algoritms**!"
   ]
  },
  {
   "cell_type": "markdown",
   "metadata": {},
   "source": [
    "## Multiple Linear Regression"
   ]
  },
  {
   "cell_type": "markdown",
   "metadata": {},
   "source": [
    "1. Several explanatory variables.\n",
    "2. We want to know the approximate price of houses if we know sizes,number of rooms etc."
   ]
  },
  {
   "cell_type": "markdown",
   "metadata": {},
   "source": [
    "## Optimization "
   ]
  },
  {
   "cell_type": "markdown",
   "metadata": {},
   "source": [
    "### Mean Sqaured Error (MSE) "
   ]
  },
  {
   "cell_type": "markdown",
   "metadata": {},
   "source": [
    "Given $H(x)$ and $y$ where $H(x)$ is the prediction and $y$ is the required output.<br>\n",
    "$let \\ \\epsilon\\ = [{H(x) - y}]$<br>\n",
    "$if \\ \\epsilon_i^2\\ $ is small then our predictions are **Good** otherwise they are **Bad**.<br>\n",
    "$ MSE = \\sum_{i=1}^{n}\\epsilon_i^2\\ $"
   ]
  },
  {
   "cell_type": "markdown",
   "metadata": {},
   "source": [
    "### R Sqaured Statistic (R^2) "
   ]
  },
  {
   "cell_type": "markdown",
   "metadata": {},
   "source": [
    "The $R^2$ statistic is defined as:  $R^2 = 1 - \\frac{RSS}{TSS}$  **The higher $R^2$, the better the model fits the data**.<br>\n",
    "It measures how **strong** a linear relationship is between two variables.<br>\n",
    "1.**RSS** (Residual Sum Of Squares) : Same as **MSE**.<br>\n",
    "2.**TSS** (Total Sum Of Sqaures) : It is a measure of **variance** in $\\overrightarrow{y}$.<br> \n",
    "&nbsp;&nbsp;&nbsp;&nbsp;&nbsp;&nbsp;$TSS = \\frac{1}{n} \\sum_{i=1}^{n} (y-\\mu)^2 $<br>\n",
    "&nbsp;&nbsp;&nbsp;&nbsp;&nbsp;&nbsp;*where* $\\mu$ is the average value $\\forall y$."
   ]
  },
  {
   "cell_type": "markdown",
   "metadata": {},
   "source": [
    "### What we need to do!"
   ]
  },
  {
   "cell_type": "markdown",
   "metadata": {},
   "source": [
    "We need to find $ min_b[{H(x) - y}]^2 $.<br>\n",
    "We find this minimum by tuning $ b_0$ and $b_1$. "
   ]
  },
  {
   "cell_type": "markdown",
   "metadata": {},
   "source": [
    "### Ways to do this! "
   ]
  },
  {
   "cell_type": "markdown",
   "metadata": {},
   "source": [
    "#### 1. Design Matrix Approach\n"
   ]
  },
  {
   "cell_type": "markdown",
   "metadata": {},
   "source": [
    "We can transform the problem into linear equations and use the standard method (using matrix operations).<br>\n",
    "$\\overrightarrow{b} = (X'X)^{-1}X'\\overrightarrow{y}$\n",
    "<br>\n",
    "Use this approach only for low dimensional problems.We have an overhead (Matrix inversion is $O(N^3)$."
   ]
  },
  {
   "cell_type": "markdown",
   "metadata": {},
   "source": [
    "#### 2. Gradient Descent "
   ]
  },
  {
   "cell_type": "markdown",
   "metadata": {},
   "source": [
    "It is first order **iterative optimization algorithm** for finding the **minimum of a function**.<br>\n",
    "For our purposes this function is the $MSE$.<br>\n",
    "<br>\n",
    "If we plot all posiible values of the cost function $C(\\overrightarrow{b})$ in the $z-axis$, all possible values of $b_0$ in the $x-axis$ and all possible values of $b_1$ on the $y-axis$ we end up with a **3D surface** that represents this relation between  $C(\\overrightarrow{b})$  and $b_1$,$b_0$.<br>\n",
    "This **surface** is going to have a **minima**.\n",
    "This **minima** represents those values for $b_1$ and $b_0$ where the error is minimum.<br>\n",
    "If we plug $b_1$ and $b_0$ into our equation $H(x) = b_0 + b_1x$ we get the **regression line**.<br>\n",
    "<br>\n",
    "To compute the **minima** we need to know the **negative gradient** of the Cost function : $-\\nabla C(\\overrightarrow{b})$.<br>\n",
    "To find this gradient we have to find **two partial derivatives** : $\\frac{\\partial C(b)}{\\partial b_0} \\ and \\ \\frac{\\partial C(b)}{\\partial b_1}$<br>"
   ]
  },
  {
   "cell_type": "markdown",
   "metadata": {},
   "source": [
    "#### Algorithm for gradient descent"
   ]
  },
  {
   "cell_type": "markdown",
   "metadata": {},
   "source": [
    "make iterations **{**<br>\n",
    "$b_0 = b_0 - \\alpha \\frac{\\partial C(b)}{\\partial b_0}$<br>\n",
    "$b_1 = b_1 - \\alpha \\frac{\\partial C(b)}{\\partial b_1}$<br>\n",
    "**}** <br>\n",
    "<br>\n",
    "Here $b_0$ is updated with its previous value minus that partial derivative and the same goes for $b_1$.<br>\n",
    "$\\alpha$ is the learning rate or the rate at which we descend down the hill or **step size**.<br>\n",
    "Thus the point $(b_0,b_1)$ moves towards its min. value for the cost function.\n",
    "\n",
    "\n"
   ]
  },
  {
   "cell_type": "markdown",
   "metadata": {},
   "source": [
    "Go here for the visualization of a gradient descent problem: http://yulijia.net/vistat/2013/03/gradient-descent-algorithm-with-r"
   ]
  },
  {
   "cell_type": "code",
   "execution_count": 23,
   "metadata": {},
   "outputs": [],
   "source": [
    "import numpy as np\n",
    "import pandas as pd\n",
    "import matplotlib.pyplot as plt\n",
    "from sklearn.linear_model import LinearRegression\n",
    "from sklearn.metrics import mean_squared_error\n",
    "import math"
   ]
  },
  {
   "cell_type": "markdown",
   "metadata": {},
   "source": [
    "We are going to use a housing dataset and try to find a linear relationship between house area(sq. feet) and house price."
   ]
  },
  {
   "cell_type": "code",
   "execution_count": 24,
   "metadata": {},
   "outputs": [],
   "source": [
    "#read dataset \n",
    "house_data = pd.read_csv(\"house_prices.csv\")"
   ]
  },
  {
   "cell_type": "code",
   "execution_count": 25,
   "metadata": {},
   "outputs": [],
   "source": [
    "#initialize x and H(x)\n",
    "size = house_data[\"sqft_living\"] \n",
    "price = house_data[\"price\"]"
   ]
  },
  {
   "cell_type": "code",
   "execution_count": 26,
   "metadata": {},
   "outputs": [],
   "source": [
    "#Covert dataframes to numpy_arrays ... As sklearn uses np.arrays (Matrices)\n",
    "#-1 as an unknown dimension.The dataframes size and house have the index of the value and the value.\n",
    "x = np.array(size).reshape(-1,1) \n",
    "y = np.array(price).reshape(-1,1)"
   ]
  },
  {
   "cell_type": "code",
   "execution_count": 27,
   "metadata": {},
   "outputs": [
    {
     "data": {
      "text/plain": [
       "LinearRegression(copy_X=True, fit_intercept=True, n_jobs=None, normalize=False)"
      ]
     },
     "execution_count": 27,
     "metadata": {},
     "output_type": "execute_result"
    }
   ],
   "source": [
    "#Use the linear regression model and train the data\n",
    "model = LinearRegression()\n",
    "model.fit(x,y)"
   ]
  },
  {
   "cell_type": "code",
   "execution_count": 28,
   "metadata": {},
   "outputs": [
    {
     "name": "stdout",
     "output_type": "stream",
     "text": [
      "MSE:  650965.7788663033\n",
      "R squared value:  0.49285321790379316\n"
     ]
    }
   ],
   "source": [
    "#MSE and R values\n",
    "mse = mean_squared_error(x,y)\n",
    "print(\"MSE: \", math.sqrt(mse))\n",
    "print(\"R squared value: \", model.score(x,y))"
   ]
  },
  {
   "cell_type": "markdown",
   "metadata": {},
   "source": [
    "R sqaured value is **0.49** nowhere close to **1**. So we can conclude that there is **NO LINEAR RELATIONSHIP BEETWEEN HOUSE-PRICE AND HOUSE-AREA** "
   ]
  },
  {
   "cell_type": "code",
   "execution_count": 32,
   "metadata": {},
   "outputs": [
    {
     "name": "stdout",
     "output_type": "stream",
     "text": [
      "[280.6235679]\n",
      "-43580.74309447361\n"
     ]
    }
   ],
   "source": [
    "#We can get the values for b_0 and b_1\n",
    "print(model.coef_[0])\n",
    "print(model.intercept_[0])"
   ]
  },
  {
   "cell_type": "code",
   "execution_count": 30,
   "metadata": {},
   "outputs": [
    {
     "data": {
      "image/png": "[encoded data removed]",
      "text/plain": [
       "<Figure size 432x288 with 1 Axes>"
      ]
     },
     "metadata": {
      "needs_background": "light"
     },
     "output_type": "display_data"
    }
   ],
   "source": [
    "#visualize the regression line in the graph of x vs H(x)\n",
    "plt.scatter(x,y,color=\"green\")\n",
    "plt.plot(x,model.predict(x),color=\"black\")\n",
    "plt.title(\"Linear Regression\")\n",
    "plt.xlabel(\"Size\")\n",
    "plt.ylabel(\"Price\")\n",
    "plt.show()"
   ]
  },
  {
   "cell_type": "code",
   "execution_count": 31,
   "metadata": {},
   "outputs": [
    {
     "name": "stdout",
     "output_type": "stream",
     "text": [
      "Prediction by the model for 2000 is [[517666.39270042]]\n"
     ]
    }
   ],
   "source": [
    "#Model Prediction\n",
    "x = 2000\n",
    "print(f\"Prediction by the model for {x} is {model.predict([[x]])}\")"
   ]
  },
  {
   "cell_type": "markdown",
   "metadata": {},
   "source": [
    "----------------------------------------------------------**END**----------------------------------------------------------"
   ]
  }
 ],
 "metadata": {
  "kernelspec": {
   "display_name": "Python 3",
   "language": "python",
   "name": "python3"
  },
  "language_info": {
   "codemirror_mode": {
    "name": "ipython",
    "version": 3
   },
   "file_extension": ".py",
   "mimetype": "text/x-python",
   "name": "python",
   "nbconvert_exporter": "python",
   "pygments_lexer": "ipython3",
   "version": "3.8.5"
  }
 },
 "nbformat": 4,
 "nbformat_minor": 2
}
