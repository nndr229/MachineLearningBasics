{
 "cells": [
  {
   "cell_type": "markdown",
   "metadata": {},
   "source": [
    "# Support Vector Machine "
   ]
  },
  {
   "cell_type": "markdown",
   "metadata": {},
   "source": [
    "<ul>\n",
    "    <li>A SVM is a supervised learning algorithm and can operate in infinite dimensions!</li>\n",
    "    <li>It defines a margin/boundary between data points in multidimensional space.</li>\n",
    "    <li><span style=\"color:red; font-weight:bold\">GOAL : </span>To find a flat boundary or <em style=\"font-weight:bold; color:blue\">Hyperplane</em> that leads to a homogeneous partition of data.</li>\n",
    "    <li>A good seperation is acheived by the hyperplane that has the largest distance to the nearest training data-point of any class. In general the <strong>larger the margin</strong>, the lower the generalization error of the classifier.</li>\n",
    "    <li>So we have to maximize the margin.</li>\n",
    "    <li>SVMs are usually called maximum margin classifiers!</li>\n",
    "    <br>\n",
    "    <li>Can be applied to almost anything.</li>    \n",
    "    <li>Classifications or numerical predictions.</li>\n",
    "    <li>Widely used in pattern recognition---\n",
    "        <ul>\n",
    "            <li>To identify cancer or genetic diseases.</li>\n",
    "            <li>In text classification: To classify texts based on language.</li>\n",
    "            <li>For detecting rare events: earthquakes or engine failures.</li>\n",
    "        </ul>\n",
    "    </li>\n",
    "</ul>"
   ]
  },
  {
   "cell_type": "markdown",
   "metadata": {},
   "source": [
    "## Why do we call it \"Support Vector\" Machines ??? "
   ]
  },
  {
   "cell_type": "markdown",
   "metadata": {},
   "source": [
    "<p>Because we can define <span style=\"color:red;font-weight:bold\">SUPPORT VECTORS</span> : <span style=\"color:blue;font-weight:bold\">The points from each class that are are closest to the maximum margin hyperplane </span>, each class will have atleast one support vector.</p>\n",
    "<p>It is possible to reconstruct the Hyperplane with the support vectors alone. It means that we can store the classification model when when we have millions of features.</p>"
   ]
  },
  {
   "cell_type": "markdown",
   "metadata": {},
   "source": [
    "## How to find the Hyperplane when the problem is linearly seperable ??? "
   ]
  },
  {
   "cell_type": "markdown",
   "metadata": {},
   "source": [
    "<p>The Hyperplane is the <strong>perpendicular bisector of the shortest line between the two convex hull.</strong></p>\n",
    "<p><strong>Convex hull:</strong> smallest convex set that contains all points.</p>\n",
    "<p>Image from Holczer Balazs's course on ML in UDEMY.</p>\n",
    "<img src=\"Images/convexhull.png\"/>\n"
   ]
  },
  {
   "cell_type": "markdown",
   "metadata": {},
   "source": [
    "### Mathematical Approach "
   ]
  },
  {
   "cell_type": "markdown",
   "metadata": {},
   "source": [
    "$ \\overrightarrow{w}*\\overrightarrow{x} \\  + \\ b = 0 \\ \\  \\ $ The equation of the hyperplane in **n**-dimensions.We take the **DOT PRODUCT**.<br><br>\n",
    "In 2D : $y = mx + b$<br><br>\n",
    "In nD:<br>\n",
    "&nbsp;&nbsp;&nbsp;&nbsp;&nbsp; $ w_1 \\  w_2 \\ \\ ... \\  w_n \\  \\ $ **n** weights.<br>\n",
    "&nbsp;&nbsp;&nbsp;&nbsp;&nbsp; $ x_1 \\ \\ x_2 \\ \\ ... \\ \\ x_n \\ \\ \\ $ **n** features.<br><br>\n",
    "The aim of the SVM is to find the weights $w_n$ that seperate the datapoints, maximizing the margin.<br>\n",
    "&nbsp;&nbsp;&nbsp;&nbsp;&nbsp; $ {w}*{x} \\  + \\ b \\geq +1 \\ \\  \\ $<br> \n",
    "&nbsp;&nbsp;&nbsp;&nbsp;&nbsp; $ {w}*{x} \\  + \\ b \\leq -1 \\ \\  \\ $ <br>\n",
    "<br>\n",
    "<p>Image from Holczer Balazs's course on ML in UDEMY.</p>\n",
    "<img src = \"Images/twolineshp.png\"/>"
   ]
  },
  {
   "cell_type": "markdown",
   "metadata": {},
   "source": [
    "Vector geometry defines, the distance between two planes is:<br><br>\n",
    "&nbsp;&nbsp;&nbsp;&nbsp;&nbsp;&nbsp;&nbsp; $ \\frac{2}{\\lvert \\overrightarrow{w} \\rvert} \\ \\ $ Euclidean norm of the weights (distance from 0)<br><br>\n",
    "&nbsp;&nbsp;&nbsp;&nbsp;&nbsp;&nbsp;&nbsp; We want to make this distance as large as possible -> So we want to minimize the norm of $w$.<br><br>\n",
    "We usually minimize like this: $ \\frac{1}{2}{\\lvert \\overrightarrow{w} \\rvert}^2 \\ \\ $ <br><br>"
   ]
  },
  {
   "cell_type": "markdown",
   "metadata": {},
   "source": [
    "## How to find the Hyperplane when the problem is not linearly seperable (NON - LINEAR CASE)??? "
   ]
  },
  {
   "cell_type": "markdown",
   "metadata": {},
   "source": [
    "<ul>\n",
    "    <li>In many real world applications, the relationships between variables are non-linear.</li>\n",
    "    <li>A key feature of SVMs is their ability ti map the problem into a higher dimensional space using a process known as the <span style=\"color:red;font-weight:bold\">KERNEL TRICK</span>.</li>\n",
    "    <li>The non-linear relationhip may suddenly appear to be quite linear.</li>\n",
    "</ul>\n",
    "<p>Image from Holczer Balazs's course on ML in UDEMY.</p>\n",
    "<p>So we have misclassified points using a line in the case shown below.</p>\n",
    "<img src = \"Images/nonlinear.png\"/>"
   ]
  },
  {
   "cell_type": "markdown",
   "metadata": {},
   "source": [
    "We minimize : &nbsp;&nbsp;&nbsp;&nbsp; $\\frac{1}{2}{\\lvert \\overrightarrow{w} \\rvert}^2 + C\\sum_i{a_i}$<br><br>\n",
    "**Where**<br>\n",
    "&nbsp;&nbsp;&nbsp;&nbsp; $a_i$ : Distance between misclassified items and the Hyperplane.<br>\n",
    "&nbsp;&nbsp;&nbsp;&nbsp; $C$ : Cost parameter to all the points that violate the constraints.<br>\n",
    "&nbsp;&nbsp;&nbsp;&nbsp; We make the optimization on this cost function.<br>\n",
    "&nbsp;&nbsp;&nbsp;&nbsp; We can tune the $C$ parameter by modifying the penalty for the data points that are misclassified.<br>\n",
    "&nbsp;&nbsp;&nbsp;&nbsp; $C$ is very large : The algorithm tries to find a 100% seperation.<br>\n",
    "&nbsp;&nbsp;&nbsp;&nbsp; $C$ is low : Wider overall margin is allowed with more misclassified data points.<br>"
   ]
  },
  {
   "cell_type": "markdown",
   "metadata": {},
   "source": [
    "### KERNEL TRICK "
   ]
  },
  {
   "cell_type": "markdown",
   "metadata": {},
   "source": [
    "<p>Suppose we have two non linearly seperable features.<br>\n",
    "<span style=\"color:red;font-weight:bold\">The kernel trick will insert a new feature(a third dimension) such that the features are now linearly seperable.</span><br>\n",
    "Thus the original 2D space has been transformed into a higher dimensional 3D space.    \n",
    "</p>\n",
    "<p>In the image below we can see that a new variable or <strong style=\"color:green\">SLACK VARIABLE </strong>for  altitude has been inserted as a third dimension. Now we can easily insert a HYPERPLANE.<br>\n",
    "<strong style=\"color:blue\">SVMs find this SLACK VARIABLE for us!!!</strong>. SVMs learn concepts that were not explicitly measured in the original data.\n",
    "</p>\n",
    "<p>Img from Holczer Balaz's ML Course on Udemy.</p>\n",
    "<img src = \"Images/kerneltrick.png\" />"
   ]
  },
  {
   "cell_type": "markdown",
   "metadata": {},
   "source": [
    "### Kernel Function"
   ]
  },
  {
   "cell_type": "markdown",
   "metadata": {},
   "source": [
    "$\\phi(x) $ **phi function**:<br>\n",
    "&nbsp;&nbsp;&nbsp;&nbsp;Defines the mapping of $x$ into another space (Representation of the given vector in another space.).<br><br>\n",
    "&nbsp;&nbsp;&nbsp;&nbsp;&nbsp;&nbsp;&nbsp;&nbsp; $K(\\overrightarrow{x}) = \\left\\{\n",
    "\t\\begin{array}{ll}\n",
    "\t\t1  & \\mbox{if } \\lvert \\overrightarrow x \\rvert \\leq 1 \\\\\n",
    "\t\t0 & \\mbox {otherwise}\n",
    "\t\\end{array}\n",
    "\\right.$  **The kernel function.**<br><br>\n",
    "Can also be written as $K(\\overrightarrow{x}) = K({x_i,x_j})$\n",
    "<br>\n",
    "The kernel function is the dot product of two phi functions.<br><br>\n",
    "$K({x_i,x_j}) = x_i * x_j \\ \\ \\ \\ \\ \\ \\ \\ \\  \\  \n",
    "\\ \\ $ **Linear kernel** : does not transform the data.<br><br> \n",
    "$K({x_i,x_j}) = (x_i * x_j + 1)^d  \\  $ **polynomial kernel**.<br><br> \n",
    "$K({x_i,x_j}) = exp \\frac{-{ \\lvert x_i - x_j \\rvert}^2} {2*{\\sigma}^2} \\ \\ \\  \\ $  **Gaussian RBF(Radial Basis Function) kernel**. <br><br>"
   ]
  },
  {
   "cell_type": "markdown",
   "metadata": {},
   "source": [
    "### Advantages and Disadvantages"
   ]
  },
  {
   "cell_type": "markdown",
   "metadata": {},
   "source": [
    "<p>Advantages</p>\n",
    "<ul>\n",
    "    <li>Can be used for regression problems as well as for classifications.</li>\n",
    "    <li>Not overly influenced by noisy data.</li>\n",
    "    <li>Easier to use than Neural Networks.</li>\n",
    "</ul>\n",
    "<p>Disadvantages</p>\n",
    "<ul>\n",
    "    <li>Finding the best model requires testing of various combinations of kernels and model parameters.</li>\n",
    "    <li>Quite slow: especially when the input dataset has a learge number of features.</li>\n",
    "    <li>Black Box Model: Hard to understand.</li>\n",
    "</ul>"
   ]
  },
  {
   "cell_type": "markdown",
   "metadata": {},
   "source": [
    "# <span style=\"color:purple\">SIMPLE CODE EXAMPLE</span> "
   ]
  },
  {
   "cell_type": "code",
   "execution_count": 2,
   "metadata": {},
   "outputs": [],
   "source": [
    "import numpy as np \n",
    "import matplotlib.pyplot as plt\n",
    "from sklearn import svm\n",
    "from mlxtend.plotting import plot_decision_regions #used to plot decision boundary or regions"
   ]
  },
  {
   "cell_type": "code",
   "execution_count": 4,
   "metadata": {},
   "outputs": [],
   "source": [
    "#data\n",
    "xBlue = np.array([0.3,0.5,1,1.4,1.7,2])\n",
    "yBlue = np.array([1,4.5,2.3,1.9,8.9,4.1])\n",
    "\n",
    "xRed = np.array([3.3,3.5,4,4.4,5.7,6])\n",
    "yRed = np.array([7,1.5,6.3,1.9,2.9,7.1])\n",
    "\n",
    "X = np.array([[0.3,1],[0.5,4.5],[1,2.3],[1.4,1.9],[1.7,8.9],[2,4.1],[3.3,7],[3.5,1.5],[4,6.3],[4.4,1.9],[5.7,2.9],[6,7.1]])\n",
    "y = np.array([0,0,0,0,0,0,1,1,1,1,1,1]) # 0: blue class, 1: red class"
   ]
  },
  {
   "cell_type": "code",
   "execution_count": 6,
   "metadata": {},
   "outputs": [
    {
     "data": {
      "image/png": "[encoded data removed]",
      "text/plain": [
       "<Figure size 432x288 with 1 Axes>"
      ]
     },
     "metadata": {
      "needs_background": "light"
     },
     "output_type": "display_data"
    }
   ],
   "source": [
    "#Let's plot the data \n",
    "plt.plot(xBlue, yBlue, 'ro', color='blue')\n",
    "plt.plot(xRed, yRed, 'ro', color='red')\n",
    "plt.plot(2.5,4.5,'ro',color='green')\n",
    "plt.show()"
   ]
  },
  {
   "cell_type": "markdown",
   "metadata": {},
   "source": [
    "\tImportant parameters for SVC: gamma and C\n",
    "\t\tgamma -> defines how far the influence of a single training example reaches\n",
    "\t\t\t\t\tLow value: influence reaches far      High value: influence does not reach far\n",
    "\n",
    "\t\tC -> trades off hyperplane surface simplicity + training examples misclassifications\n",
    "\t\t\t\t\tLow value: simple/smooth hyperplane surface(underfitting) \n",
    "\t\t\t\t\tHigh value: all training examples classified correctly but complex surface(overfitting) "
   ]
  },
  {
   "cell_type": "code",
   "execution_count": 20,
   "metadata": {},
   "outputs": [
    {
     "data": {
      "text/plain": [
       "SVC(C=10, cache_size=200, class_weight=None, coef0=0.0,\n",
       "    decision_function_shape='ovr', degree=3, gamma='auto', kernel='rbf',\n",
       "    max_iter=-1, probability=False, random_state=None, shrinking=True,\n",
       "    tol=0.001, verbose=False)"
      ]
     },
     "execution_count": 20,
     "metadata": {},
     "output_type": "execute_result"
    }
   ],
   "source": [
    "#train the model\n",
    "classifier = svm.SVC(C=10,gamma=\"auto\")\n",
    "classifier.fit(X,y)"
   ]
  },
  {
   "cell_type": "code",
   "execution_count": 21,
   "metadata": {},
   "outputs": [
    {
     "name": "stdout",
     "output_type": "stream",
     "text": [
      "Prediciton for (2.5,4.5) is [0] that is Blue class.\n",
      "Prediciton for (4.5,4.5) is [1] that is Red class.\n"
     ]
    }
   ],
   "source": [
    "print(f\"Prediciton for (2.5,4.5) is {classifier.predict([[2.5,4.5]])} that is Blue class.\")\n",
    "print(f\"Prediciton for (4.5,4.5) is {classifier.predict([[4.5,4.5]])} that is Red class.\")"
   ]
  },
  {
   "cell_type": "code",
   "execution_count": 22,
   "metadata": {},
   "outputs": [
    {
     "data": {
      "image/png": "[encoded data removed]",
      "text/plain": [
       "<Figure size 432x288 with 1 Axes>"
      ]
     },
     "metadata": {
      "needs_background": "light"
     },
     "output_type": "display_data"
    }
   ],
   "source": [
    "#Let's print out the decision boundary!\n",
    "plot_decision_regions(X,y,clf=classifier,legend=2)\n",
    "plt.plot(2.5,4.5,'ro',color='green')\n",
    "plt.show()"
   ]
  },
  {
   "cell_type": "markdown",
   "metadata": {},
   "source": [
    "# <span style=\"color:purple\">IRIS DATASET CODE EXAMPLE</span> "
   ]
  },
  {
   "cell_type": "code",
   "execution_count": 24,
   "metadata": {},
   "outputs": [],
   "source": [
    "#imports\n",
    "from sklearn.model_selection import train_test_split\n",
    "from sklearn.metrics import confusion_matrix\n",
    "from sklearn.metrics import accuracy_score\n",
    "from sklearn import datasets"
   ]
  },
  {
   "cell_type": "code",
   "execution_count": 30,
   "metadata": {},
   "outputs": [],
   "source": [
    "#load the dataset\n",
    "iris_data = datasets.load_iris()\n",
    "\n",
    "features = iris_data.data\n",
    "target = iris_data.target\n",
    "\n",
    "#train-test-split\n",
    "feature_train, feature_test, target_train, target_test = train_test_split(features, target, test_size=0.3)"
   ]
  },
  {
   "cell_type": "code",
   "execution_count": 32,
   "metadata": {},
   "outputs": [
    {
     "name": "stdout",
     "output_type": "stream",
     "text": [
      "[5.1 3.5 1.4 0.2]\n",
      "\n",
      "0\n"
     ]
    }
   ],
   "source": [
    "print(features[0])\n",
    "print()\n",
    "print(target[0])"
   ]
  },
  {
   "cell_type": "markdown",
   "metadata": {},
   "source": [
    "Each column of feaures indicate  sepal length, sepal width,petal length and petal width,<br>\n",
    "This particular combination belongs to class 0  Iris Setosa.<br>\n",
    "We have 3 such classes including class 0."
   ]
  },
  {
   "cell_type": "code",
   "execution_count": 33,
   "metadata": {},
   "outputs": [
    {
     "name": "stdout",
     "output_type": "stream",
     "text": [
      "Confusion matrix:\n",
      "[[12  0  0]\n",
      " [ 0 17  0]\n",
      " [ 0  1 15]]\n",
      "\n",
      "Accuracy Score\n",
      "0.9777777777777777\n"
     ]
    }
   ],
   "source": [
    "model = svm.SVC(gamma=\"auto\")\n",
    "fitted_model = model.fit(feature_train, target_train)\n",
    "predictions = fitted_model.predict(feature_test)\n",
    "print(\"Confusion matrix:\")\n",
    "print(confusion_matrix(target_test, predictions))\n",
    "print()\n",
    "print(\"Accuracy Score\")\n",
    "print(accuracy_score(target_test, predictions))"
   ]
  },
  {
   "cell_type": "markdown",
   "metadata": {},
   "source": [
    "There is just one misclassified item."
   ]
  },
  {
   "cell_type": "markdown",
   "metadata": {},
   "source": [
    "## <span style=\"color:purple\">Parameter Tuning for the Iris dataset!</span> "
   ]
  },
  {
   "cell_type": "code",
   "execution_count": 146,
   "metadata": {},
   "outputs": [],
   "source": [
    "#We use GridSearchCV to find optimal gamma , C parameters and the best Kernel for our dataset.\n",
    "from sklearn.model_selection import GridSearchCV"
   ]
  },
  {
   "cell_type": "code",
   "execution_count": 147,
   "metadata": {},
   "outputs": [],
   "source": [
    "model_grid_search = svm.SVC()\n",
    "\n",
    "param_grid = {'C': [0.1, 1, 5, 10, 20, 30, 40, 50, 60, 70, 100, 200],\n",
    "              'gamma': [1, 0.1, 0.01, 0.001],\n",
    "              'kernel': ['rbf', 'poly', 'sigmoid']}"
   ]
  },
  {
   "cell_type": "code",
   "execution_count": 150,
   "metadata": {},
   "outputs": [
    {
     "name": "stdout",
     "output_type": "stream",
     "text": [
      "{'C': 1, 'gamma': 1, 'kernel': 'rbf'}\n"
     ]
    }
   ],
   "source": [
    "#Let's fit the model using GridSearchCV\n",
    "grid = GridSearchCV(model_grid_search,param_grid,refit=True,iid=True,cv=5)\n",
    "grid.fit(feature_train, target_train)\n",
    "#this is goiing to give different values for c , gamma and kernel as the dataset is shuffled each time.\n",
    "print(grid.best_params_)"
   ]
  },
  {
   "cell_type": "markdown",
   "metadata": {},
   "source": [
    "The predicted values wil differ each time as train test split , shuffles the data randomly. Also we gave only avout 150 data points."
   ]
  },
  {
   "cell_type": "code",
   "execution_count": 149,
   "metadata": {},
   "outputs": [
    {
     "name": "stdout",
     "output_type": "stream",
     "text": [
      "Confusion matrix:\n",
      "[[12  0  0]\n",
      " [ 0 16  1]\n",
      " [ 0  1 15]]\n",
      "\n",
      "Accuracy Score\n",
      "0.9555555555555556\n"
     ]
    }
   ],
   "source": [
    "#The predict function will use the best parameters and use the best kernel\n",
    "grid_predictions = grid.predict(feature_test)\n",
    "print(\"Confusion matrix:\")\n",
    "print(confusion_matrix(target_test, grid_predictions))\n",
    "print()\n",
    "print(\"Accuracy Score\")\n",
    "print(accuracy_score(target_test, grid_predictions))"
   ]
  },
  {
   "cell_type": "markdown",
   "metadata": {},
   "source": [
    "# <span style=\"color:purple\">Digit Recognition Code</span>  "
   ]
  },
  {
   "cell_type": "markdown",
   "metadata": {},
   "source": [
    "We are going to use the digit dataset that consists of 1797 8 * 8 images.\n",
    "So we have 64 features for each image."
   ]
  },
  {
   "cell_type": "code",
   "execution_count": 151,
   "metadata": {},
   "outputs": [],
   "source": [
    "import matplotlib.pyplot as plt\n",
    "from sklearn import datasets, svm, metrics\n",
    "from sklearn.metrics import accuracy_score"
   ]
  },
  {
   "cell_type": "code",
   "execution_count": 164,
   "metadata": {},
   "outputs": [
    {
     "name": "stdout",
     "output_type": "stream",
     "text": [
      "The number of entries in the dataset and the shape of each entry:\n",
      "(1797, 8, 8)\n",
      "\n",
      "There are 64 pixels in any digit.\n",
      "The array holding the value of each pixel for the first entry in the dataset is:\n",
      "[ 0.  0.  5. 13.  9.  1.  0.  0.  0.  0. 13. 15. 10. 15.  5.  0.  0.  3.\n",
      " 15.  2.  0. 11.  8.  0.  0.  4. 12.  0.  0.  8.  8.  0.  0.  5.  8.  0.\n",
      "  0.  9.  8.  0.  0.  4. 11.  0.  1. 12.  7.  0.  0.  2. 14.  5. 10. 12.\n",
      "  0.  0.  0.  0.  6. 13. 10.  0.  0.  0.]\n",
      "This is an 8*8 image for 0\n"
     ]
    }
   ],
   "source": [
    "digits = datasets.load_digits()\n",
    "print(\"The number of entries in the dataset and the shape of each entry:\")\n",
    "print(digits.images.shape)\n",
    "print()\n",
    "#lets look at a digit\n",
    "print(f\"There are {len(digits.data[0])} pixels in any digit.\")\n",
    "print(\"The array holding the value of each pixel for the first entry in the dataset is:\")\n",
    "print(digits.data[0])\n",
    "print(f\"This is an 8*8 image for {digits.target[0]}\")"
   ]
  },
  {
   "cell_type": "code",
   "execution_count": 165,
   "metadata": {},
   "outputs": [
    {
     "name": "stdout",
     "output_type": "stream",
     "text": [
      "(array([[ 0.,  0.,  5., 13.,  9.,  1.,  0.,  0.],\n",
      "       [ 0.,  0., 13., 15., 10., 15.,  5.,  0.],\n",
      "       [ 0.,  3., 15.,  2.,  0., 11.,  8.,  0.],\n",
      "       [ 0.,  4., 12.,  0.,  0.,  8.,  8.,  0.],\n",
      "       [ 0.,  5.,  8.,  0.,  0.,  9.,  8.,  0.],\n",
      "       [ 0.,  4., 11.,  0.,  1., 12.,  7.,  0.],\n",
      "       [ 0.,  2., 14.,  5., 10., 12.,  0.,  0.],\n",
      "       [ 0.,  0.,  6., 13., 10.,  0.,  0.,  0.]]), 0)\n"
     ]
    }
   ],
   "source": [
    "images_and_labels = list(zip(digits.images, digits.target))\n",
    "print(images_and_labels[0])"
   ]
  },
  {
   "cell_type": "markdown",
   "metadata": {},
   "source": [
    "We converted each 8 * 8 image and its target value into a 2-D array."
   ]
  },
  {
   "cell_type": "code",
   "execution_count": 174,
   "metadata": {},
   "outputs": [
    {
     "data": {
      "image/png": "[encoded data removed]",
      "text/plain": [
       "<Figure size 432x288 with 6 Axes>"
      ]
     },
     "metadata": {
      "needs_background": "light"
     },
     "output_type": "display_data"
    }
   ],
   "source": [
    "#Let's plot the images and labels\n",
    "for index,(image,label) in enumerate(images_and_labels[0:6]):\n",
    "    plt.subplot(2,3,index+1)\n",
    "    plt.imshow(image)\n",
    "    plt.subplots_adjust(hspace=0.5, wspace=1.0)\n",
    "    plt.title(\"Target: %i\" %label)"
   ]
  },
  {
   "cell_type": "markdown",
   "metadata": {},
   "source": [
    "To apply a classifier on this data, we need to flatten the image: instead of a 8x8 matrix we have to use a one-dimensional array with 64 items."
   ]
  },
  {
   "cell_type": "code",
   "execution_count": 175,
   "metadata": {},
   "outputs": [],
   "source": [
    "data = digits.images.reshape((len(digits.images), -1))"
   ]
  },
  {
   "cell_type": "code",
   "execution_count": 176,
   "metadata": {},
   "outputs": [
    {
     "data": {
      "text/plain": [
       "SVC(C=1.0, cache_size=200, class_weight=None, coef0=0.0,\n",
       "    decision_function_shape='ovr', degree=3, gamma=0.001, kernel='rbf',\n",
       "    max_iter=-1, probability=False, random_state=None, shrinking=True,\n",
       "    tol=0.001, verbose=False)"
      ]
     },
     "execution_count": 176,
     "metadata": {},
     "output_type": "execute_result"
    }
   ],
   "source": [
    "classifier_digits = svm.SVC(gamma=0.001)\n",
    "\n",
    "# 75% of the original data-set is for training\n",
    "train_test_split = int(len(digits.images) * 0.75)\n",
    "classifier_digits.fit(data[:train_test_split], digits.target[:train_test_split])"
   ]
  },
  {
   "cell_type": "code",
   "execution_count": 184,
   "metadata": {},
   "outputs": [
    {
     "name": "stdout",
     "output_type": "stream",
     "text": [
      "Confusion matrix:\n",
      "[[42  0  0  0  1  0  0  0  0  0]\n",
      " [ 0 46  0  0  0  0  0  0  0  0]\n",
      " [ 0  0 43  0  0  0  0  0  0  0]\n",
      " [ 0  0  0 40  0  2  0  1  4  0]\n",
      " [ 0  0  0  0 45  0  0  0  1  2]\n",
      " [ 0  0  0  0  0 44  1  0  0  0]\n",
      " [ 0  0  0  0  0  0 47  0  0  0]\n",
      " [ 0  0  0  0  0  0  0 45  0  0]\n",
      " [ 0  1  0  0  0  0  0  0 40  0]\n",
      " [ 0  0  0  1  0  1  0  0  0 43]]\n",
      "\n",
      "Accuracy score:\n",
      "0.9666666666666667\n"
     ]
    }
   ],
   "source": [
    "# now predict the value of the digit on the 25%\n",
    "expected = digits.target[train_test_split:]\n",
    "predicted = classifier_digits.predict(data[train_test_split:])\n",
    "\n",
    "print(\"Confusion matrix:\")\n",
    "print(metrics.confusion_matrix(expected, predicted))\n",
    "print()\n",
    "print(\"Accuracy score:\")\n",
    "print(accuracy_score(expected, predicted))"
   ]
  },
  {
   "cell_type": "code",
   "execution_count": 202,
   "metadata": {},
   "outputs": [
    {
     "data": {
      "image/png": "[encoded data removed]",
      "text/plain": [
       "<Figure size 432x288 with 6 Axes>"
      ]
     },
     "metadata": {
      "needs_background": "light"
     },
     "output_type": "display_data"
    }
   ],
   "source": [
    "# let's test on the last few images\n",
    "for i in range(1,7):\n",
    "    plt.subplot(2,3,i)\n",
    "    plt.imshow(digits.images[-i])\n",
    "    plt.subplots_adjust(hspace=1.0)\n",
    "    plt.title(f\"Prediction:{ classifier_digits.predict(data[-i].reshape(1, -1))}\")"
   ]
  },
  {
   "cell_type": "markdown",
   "metadata": {},
   "source": [
    "**OUR CLASSIFIER IS WORKING FINE!!!**"
   ]
  },
  {
   "cell_type": "markdown",
   "metadata": {},
   "source": [
    "# <span style=\"color:darkgreen\">END</span> "
   ]
  }
 ],
 "metadata": {
  "kernelspec": {
   "display_name": "Python 3",
   "language": "python",
   "name": "python3"
  },
  "language_info": {
   "codemirror_mode": {
    "name": "ipython",
    "version": 3
   },
   "file_extension": ".py",
   "mimetype": "text/x-python",
   "name": "python",
   "nbconvert_exporter": "python",
   "pygments_lexer": "ipython3",
   "version": "3.8.5"
  }
 },
 "nbformat": 4,
 "nbformat_minor": 2
}
