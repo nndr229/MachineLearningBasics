{
 "cells": [
  {
   "cell_type": "markdown",
   "metadata": {},
   "source": [
    "# What is Logistic Regression?"
   ]
  },
  {
   "cell_type": "markdown",
   "metadata": {},
   "source": [
    "**Logistic Regression** solves **classification** problems.<br>\n",
    "Usually we use this method for **binary** classification.<br>\n",
    "Used for **spam detection** of emails.This is a binary classification problem as there are two cases.The email can be a SPAM or NOT.<br>\n",
    "Also used by banks for predicting whether a customer will default on a loan or not.<br>\n",
    "**OUTPUT OF THE DEPENDENT VARIABLE IS DICRETE**.\n",
    "**Logistic Regression** is a **discrete model** that assigns **probabilities to given outcomes**.<br>\n",
    "The output is a probability that the given input belongs to a certain class."
   ]
  },
  {
   "cell_type": "markdown",
   "metadata": {},
   "source": [
    "Let's consider the problem of **credit risk**.<br>\n",
    "The problem: Create a **model** that gives the **probability of his/her credit debt being paid back by the client**.<br>\n",
    "Here the $x-axis$ will be the *balance on the credit card* and the $y-axis$ is a *binary class(Will pay Back OR Will Not Pay Back)*.<br>"
   ]
  },
  {
   "cell_type": "markdown",
   "metadata": {},
   "source": [
    "**Linear Regression** is not a good solution for this problem.<br>\n",
    "To fit the description of the problem we would like to end up with a **sigmod funtion** so that we can assign probabilities to given outcomes."
   ]
  },
  {
   "cell_type": "markdown",
   "metadata": {},
   "source": [
    "## Sigmoid function "
   ]
  },
  {
   "cell_type": "markdown",
   "metadata": {},
   "source": [
    "$f(x) = \\frac{1}{1 + e^{-x}}$<br>\n",
    "<br>\n",
    "Using this functtion:<br>\n",
    "**->** We are able to solve binary classication problems.<br>\n",
    "**->** It outputs a value between 0 and 1.<br>\n",
    "**->** The output can be interpreted as a probability."
   ]
  },
  {
   "cell_type": "markdown",
   "metadata": {},
   "source": [
    "**Graph of the sigmoid function**."
   ]
  },
  {
   "cell_type": "code",
   "execution_count": 87,
   "metadata": {},
   "outputs": [
    {
     "data": {
      "image/png": "[encoded data removed]",
      "text/plain": [
       "<Figure size 432x288 with 1 Axes>"
      ]
     },
     "metadata": {
      "needs_background": "light"
     },
     "output_type": "display_data"
    }
   ],
   "source": [
    "import matplotlib.pyplot as plt \n",
    "import numpy as np \n",
    "import math \n",
    "  \n",
    "x = np.linspace(-10, 10, 100) \n",
    "y = 1/(1 + np.exp(-x)) \n",
    "  \n",
    "plt.plot(x, y)\n",
    "plt.xlabel(\"x\") \n",
    "plt.ylabel(\"f(x)\") \n",
    "  \n",
    "plt.show() "
   ]
  },
  {
   "cell_type": "markdown",
   "metadata": {},
   "source": [
    "###  We Use Bayes Theorem"
   ]
  },
  {
   "cell_type": "markdown",
   "metadata": {},
   "source": [
    "$P(HYPOTHESIS \\ given \\ EVIDENCE) = P(H|E) = \\frac{P(H) \\  P(E|H)}{P{E}} = \\frac {P(H) \\  P(E|H)} {{P(H) \\ P(E|H)} \\ + \\ P(\\neg H) \\ P(E|\\neg H)}$"
   ]
  },
  {
   "cell_type": "markdown",
   "metadata": {},
   "source": [
    "### We use a modified sigmoid function"
   ]
  },
  {
   "cell_type": "markdown",
   "metadata": {},
   "source": [
    "We compute the **probability for a default given the balance $x$**.<br>\n",
    "<br>\n",
    "$p(x) = P(y=1|x=balance)$<br>\n",
    "<br>\n",
    "Here p(x) comes out to be $\\frac{1}{1 + e^{-(b_0 + b_1*x)}}$<br>\n",
    "<br>\n",
    "$b_0$ and $b_1$ are the model parameters.\n",
    "We can solve this using **gradient descent** or **maximum likelihood method**."
   ]
  },
  {
   "cell_type": "markdown",
   "metadata": {},
   "source": [
    "### We use Logit Transformation "
   ]
  },
  {
   "cell_type": "markdown",
   "metadata": {},
   "source": [
    "$\\ln (\\frac{p(x)}{1 \\ - \\ p(x)}) \\ = \\ b_0 \\ + \\ b_1x  $<br>\n",
    "<br>\n",
    "**->** The point of the **logit transformation** is to make our **logistic regression** linear. So logistic regression is a linear regression on the logit transformation.<br>\n",
    "**->** It is a **generalized linear model** : Not because the estimated probability of the response is linear but beacuse the logit of the estimated probability response is a linear function of the parameters.  "
   ]
  },
  {
   "cell_type": "markdown",
   "metadata": {},
   "source": [
    "### Multinomial Logistic Regression"
   ]
  },
  {
   "cell_type": "markdown",
   "metadata": {},
   "source": [
    "We have **multiple x parameters**. For example balance,age,demograhics,loan to income ratio etc.<br>\n",
    "<br>\n",
    "$p(x) = \\frac{1}{1 + e^{-(b_0 + b_1*x_1 + ... + b_n*x_n)}}$ <br>\n",
    "<br>\n",
    "Usually we only use Logistic Regression for **BINARY CLASSIFICATION**."
   ]
  },
  {
   "cell_type": "markdown",
   "metadata": {},
   "source": [
    "### Maximum-Likelihood Method"
   ]
  },
  {
   "cell_type": "markdown",
   "metadata": {},
   "source": [
    "It is a method of estimating the parameters of a statistical model given observations, by finding the parameter values that maximize the likelihood of making the observations given the parameters.<br>\n",
    "<br>\n",
    "The method is based on a **likelihood function**.<br>\n",
    "**\"Logarithmic likelihood-function\"**.<br>\n",
    "<br>\n",
    "$ l(\\beta,x) = \\ln L(\\beta,x) $<br>\n",
    "**where** $L(\\beta,x)$ is the likelihood-function.<br>\n",
    "We are after optimal values $\\beta$ values that maximize the likelihood-function. <br>\n",
    "<br>\n",
    "\n",
    "$ L(\\overrightarrow{\\beta})  = \\prod_{i=1}^{n} p(y_i,x_i)^{y_i} \\ (1 - p(y_i,x_i))^{1-y_i} $<br>\n",
    "<br>\n",
    "$p(y_i,\\overrightarrow x) = \\frac{1}{1 + e^{-(\\overrightarrow x_i'*\\beta)}}$ <br>\n",
    "<br>\n",
    "This estimate is obtained using the iterative algorithm **Newton Raphson Method**."
   ]
  },
  {
   "cell_type": "markdown",
   "metadata": {},
   "source": [
    "### CODE"
   ]
  },
  {
   "cell_type": "markdown",
   "metadata": {},
   "source": [
    "#### SIMPLE EXAMPLE"
   ]
  },
  {
   "cell_type": "code",
   "execution_count": 88,
   "metadata": {},
   "outputs": [],
   "source": [
    "import numpy as np\n",
    "import matplotlib.pyplot as plt\n",
    "from sklearn.linear_model import LogisticRegression"
   ]
  },
  {
   "cell_type": "markdown",
   "metadata": {},
   "source": [
    "We are just considering some points for now."
   ]
  },
  {
   "cell_type": "code",
   "execution_count": 89,
   "metadata": {},
   "outputs": [],
   "source": [
    "# p i = 1 / 1 + exp[ - ( b0 + b1 * x )]\n",
    "\n",
    "x1 = np.array([0,0.6,1.1,1.5,1.8,2.5,3,3.1,3.9,4,4.9,5,5.1])\n",
    "y1 = np.array([0,0,0,0,0,0,0,0,0,0,0,0,0])\n",
    "\n",
    "x2 = np.array([3,3.8,4.4,5.2,5.5,6.5,6,6.1,6.9,7,7.9,8,8.1])\n",
    "y2 = np.array([1,1,1,1,1,1,1,1,1,1,1,1,1])\n",
    "\n",
    "#this is the dataset combining x1 and x2 And y1 and y2\n",
    "X = np.array([[0],[0.6],[1.1],[1.5],[1.8],[2.5],[3],[3.1],[3.9],[4],[4.9],[5],[5.1],[3],[3.8],[4.4],[5.2],[5.5],[6.5],[6],[6.1],[6.9],[7],[7.9],[8],[8.1]])\n",
    "y = np.array([0,0,0,0,0,0,0,0,0,0,0,0,0,1,1,1,1,1,1,1,1,1,1,1,1,1])"
   ]
  },
  {
   "cell_type": "code",
   "execution_count": 90,
   "metadata": {},
   "outputs": [
    {
     "data": {
      "image/png": "[encoded data removed]",
      "text/plain": [
       "<Figure size 432x288 with 1 Axes>"
      ]
     },
     "metadata": {
      "needs_background": "light"
     },
     "output_type": "display_data"
    }
   ],
   "source": [
    "plt.plot(x1,y1,\"ro\",color=\"blue\")\n",
    "plt.plot(x2,y2,\"ro\",color=\"red\")\n",
    "plt.show()"
   ]
  },
  {
   "cell_type": "code",
   "execution_count": 91,
   "metadata": {},
   "outputs": [
    {
     "name": "stdout",
     "output_type": "stream",
     "text": [
      "b0 is : [-4.50163542]\n",
      "b1 is : [[1.00401882]]\n"
     ]
    }
   ],
   "source": [
    "#Lets train a model for these points!\n",
    "model = LogisticRegression(solver='lbfgs')\n",
    "model.fit(X,y)\n",
    "\n",
    "#Lets print the beta values\n",
    "print(f\"b0 is : {model.intercept_}\")\n",
    "print(f\"b1 is : {model.coef_}\")"
   ]
  },
  {
   "cell_type": "markdown",
   "metadata": {},
   "source": [
    "**Now we can use this trained model to make predictions.**"
   ]
  },
  {
   "cell_type": "code",
   "execution_count": 92,
   "metadata": {},
   "outputs": [
    {
     "data": {
      "image/png": "[encoded data removed]",
      "text/plain": [
       "<Figure size 432x288 with 1 Axes>"
      ]
     },
     "metadata": {
      "needs_background": "light"
     },
     "output_type": "display_data"
    }
   ],
   "source": [
    "#Let's visualise the problem\n",
    "def logistic(classifier,x):\n",
    "    return 1/(1 + np.exp(-(model.intercept_ + model.coef_ *x)))\n",
    "\n",
    "for i in range(1,120):\n",
    "    plt.plot(i/10.0 - 2,logistic(model,i/10.0),\"ro\",color=\"green\")\n",
    "    \n",
    "plt.plot(x1,y1,\"ro\",color=\"blue\")\n",
    "plt.plot(x2,y2,\"ro\",color=\"red\")    \n",
    "plt.axis([-2,10.0,-0.5,2])\n",
    "plt.show()"
   ]
  },
  {
   "cell_type": "markdown",
   "metadata": {},
   "source": [
    "**The output is binary , either 0 or 1.**"
   ]
  },
  {
   "cell_type": "code",
   "execution_count": 93,
   "metadata": {},
   "outputs": [
    {
     "name": "stdout",
     "output_type": "stream",
     "text": [
      "The model's predicition for input 1 is [0]\n",
      "The model's PROBABILITY predicition for input 1 is [[0.97061988 0.02938012]]\n"
     ]
    }
   ],
   "source": [
    "#Let's make a prediction with our model\n",
    "pred = model.predict([[1]])\n",
    "prob_pred = model.predict_proba([[1]])\n",
    "print(f\"The model's predicition for input 1 is {pred}\")\n",
    "print(f\"The model's PROBABILITY predicition for input 1 is {prob_pred}\")"
   ]
  },
  {
   "cell_type": "markdown",
   "metadata": {},
   "source": [
    "**We can say with 97% certainty that if our input is 1 then it belongs to the \"0\" class.**"
   ]
  },
  {
   "cell_type": "markdown",
   "metadata": {},
   "source": [
    "#### EXAMPLE WITH CREDIT SCORES "
   ]
  },
  {
   "cell_type": "code",
   "execution_count": 94,
   "metadata": {},
   "outputs": [],
   "source": [
    "#Let's import the remaining requirements\n",
    "import pandas as pd\n",
    "from sklearn.model_selection import train_test_split\n",
    "from sklearn.metrics import confusion_matrix\n",
    "from sklearn.metrics import accuracy_score"
   ]
  },
  {
   "cell_type": "code",
   "execution_count": 95,
   "metadata": {},
   "outputs": [
    {
     "name": "stdout",
     "output_type": "stream",
     "text": [
      "          clientid        income          age          loan          LTI  \\\n",
      "count  2000.000000   2000.000000  2000.000000   2000.000000  2000.000000   \n",
      "mean   1000.500000  45331.600018    40.927143   4444.369695     0.098403   \n",
      "std     577.494589  14326.327119    13.262450   3045.410024     0.057620   \n",
      "min       1.000000  20014.489470    18.055189      1.377630     0.000049   \n",
      "25%     500.750000  32796.459717    29.062492   1939.708847     0.047903   \n",
      "50%    1000.500000  45789.117313    41.382673   3974.719419     0.099437   \n",
      "75%    1500.250000  57791.281668    52.596993   6432.410625     0.147585   \n",
      "max    2000.000000  69995.685578    63.971796  13766.051239     0.199938   \n",
      "\n",
      "           default  \n",
      "count  2000.000000  \n",
      "mean      0.141500  \n",
      "std       0.348624  \n",
      "min       0.000000  \n",
      "25%       0.000000  \n",
      "50%       0.000000  \n",
      "75%       0.000000  \n",
      "max       1.000000  \n"
     ]
    }
   ],
   "source": [
    "credit_data = pd.read_csv(\"credit_data.csv\")\n",
    "#Let's analyze the dataset\n",
    "print(credit_data.describe())"
   ]
  },
  {
   "cell_type": "markdown",
   "metadata": {},
   "source": [
    "**Study mean, variance,standard deviation, co-variance and correlation from the slides or the net.**"
   ]
  },
  {
   "cell_type": "code",
   "execution_count": 96,
   "metadata": {},
   "outputs": [
    {
     "name": "stdout",
     "output_type": "stream",
     "text": [
      "          clientid    income       age      loan       LTI   default\n",
      "clientid  1.000000  0.039280 -0.030341  0.018931  0.002538 -0.020145\n",
      "income    0.039280  1.000000 -0.034984  0.441117 -0.019862  0.002284\n",
      "age      -0.030341 -0.034984  1.000000  0.006561  0.021588 -0.444765\n",
      "loan      0.018931  0.441117  0.006561  1.000000  0.847495  0.377160\n",
      "LTI       0.002538 -0.019862  0.021588  0.847495  1.000000  0.433261\n",
      "default  -0.020145  0.002284 -0.444765  0.377160  0.433261  1.000000\n"
     ]
    }
   ],
   "source": [
    "#Let's print the correlation matrix\n",
    "print(credit_data.corr())"
   ]
  },
  {
   "cell_type": "markdown",
   "metadata": {},
   "source": [
    "**Analyze the dataset before applying any machine learning algorithm**"
   ]
  },
  {
   "cell_type": "code",
   "execution_count": 97,
   "metadata": {},
   "outputs": [],
   "source": [
    "features = credit_data[[\"income\",\"age\",\"loan\"]]\n",
    "target = credit_data.default\n",
    "#Let's do a train-test split 70% of data is trianing data and the remaining is testing data\n",
    "feature_train, feature_test, target_train, target_test = train_test_split(features,target,test_size=0.3)"
   ]
  },
  {
   "cell_type": "code",
   "execution_count": 98,
   "metadata": {},
   "outputs": [
    {
     "name": "stdout",
     "output_type": "stream",
     "text": [
      "Beta values [b1,b2,b3] are : [[-5.57808697e-05 -1.40960965e-01  9.04773719e-04]]\n",
      "Intercept value or b0 is : [-0.00064464]\n",
      "\n",
      "The confusion matrix is :\n",
      "[[502  13]\n",
      " [ 43  42]]\n",
      "\n",
      "The accuracy of out model is : 0.9066666666666666\n"
     ]
    }
   ],
   "source": [
    "#Let's train the model\n",
    "model = LogisticRegression(solver='lbfgs')\n",
    "model.fit(feature_train,target_train)\n",
    "\n",
    "#let's make predictions using the test dataset\n",
    "predictions = model.predict(feature_test)\n",
    "\n",
    "#print the beta values predicted that fit the model\n",
    "print(f\"Beta values [b1,b2,b3] are : {model.coef_}\")\n",
    "print(f\"Intercept value or b0 is : {model.intercept_}\")\n",
    "print()\n",
    "\n",
    "#Now calculate the accuracy\n",
    "print(\"The confusion matrix is :\")\n",
    "print(confusion_matrix(target_test,predictions))\n",
    "print()\n",
    "print(f\"The accuracy of out model is : {accuracy_score(target_test,predictions)}\")"
   ]
  },
  {
   "cell_type": "markdown",
   "metadata": {},
   "source": [
    "**WE CAN FURTHER IMPROVE THIS ACCURACY!!!**"
   ]
  },
  {
   "cell_type": "markdown",
   "metadata": {},
   "source": [
    "## Cross Validation"
   ]
  },
  {
   "cell_type": "markdown",
   "metadata": {},
   "source": [
    "Through **train-test-split** we computed the acuuracy for the data we had.<br>\n",
    "But we want to see how the model predicts new data.<br>\n",
    "<br>\n",
    "**Overfitting**<br>\n",
    "Overfitting means that the trained model predicts *well* for the training dataset but yields *poor* results on the test datset beacuse the model is too **complex**.<br>\n",
    "The model learns the **noise**.<br>\n",
    "<br>\n",
    "**Underfitting**<br>\n",
    "Model does not fit well on the training dataset.This means that the model is too **simple**. "
   ]
  },
  {
   "cell_type": "markdown",
   "metadata": {},
   "source": [
    "### K-Folds Cross Validation "
   ]
  },
  {
   "cell_type": "markdown",
   "metadata": {},
   "source": [
    "Helps to avoid underfitting and overfitting.<br>\n",
    "The aim is to generalise the model to new datasets with the same accuracy.<br>\n",
    "We use **all the data for training**.<br><br>\n",
    "We split the data into **k** folds.<br>\n",
    "**-->** We run **k** seperate learning experiments.**k-1** folds for training and **1** for testing.<br>\n",
    "**-->** We average the results from **k** experiments.<br>\n",
    "**-->** All observations are used for both training and validation and each observation is used for validation exactly once.<br>\n",
    "<br>\n",
    "*for i in range(k):<br>\n",
    "&nbsp;&nbsp;&nbsp;&nbsp;fold = len(data)/k<br>\n",
    "&nbsp;&nbsp;&nbsp;&nbsp;range_of_fold = (i * fold,fold )<br>\n",
    "&nbsp;&nbsp;&nbsp;&nbsp;testing = data(range_of_fold)<br>\n",
    "&nbsp;&nbsp;&nbsp;&nbsp;training = data(remaining)*<br><br>"
   ]
  },
  {
   "cell_type": "markdown",
   "metadata": {},
   "source": [
    "#### CROSS VALIDATION EXAMPLE WITH CREDIT SCORES "
   ]
  },
  {
   "cell_type": "code",
   "execution_count": 99,
   "metadata": {},
   "outputs": [],
   "source": [
    "#get the remaining imports\n",
    "from sklearn.model_selection import cross_validate"
   ]
  },
  {
   "cell_type": "code",
   "execution_count": 100,
   "metadata": {},
   "outputs": [],
   "source": [
    "#let's use the same same credit_dat.csv\n",
    "#We are using the same features and targets as before\n",
    "#ML alg. handle arrays\n",
    "X_values = np.array(features).reshape(-1,3)\n",
    "y_values = np.array(target)"
   ]
  },
  {
   "cell_type": "code",
   "execution_count": 101,
   "metadata": {},
   "outputs": [
    {
     "name": "stdout",
     "output_type": "stream",
     "text": [
      "[0.9127182  0.9201995  0.9        0.91478697 0.93734336]\n"
     ]
    }
   ],
   "source": [
    "model_C_V = LogisticRegression(solver='lbfgs')\n",
    "predicted_C_V = cross_validate(model_C_V,X_values,y_values,cv=5)\n",
    "\n",
    "#predicted_C_V will be a dict.\n",
    "#predicted_C_V[\"test_score\"] will give us the accuracy calculated for each fold\n",
    "print(predicted_C_V[\"test_score\"])"
   ]
  },
  {
   "cell_type": "code",
   "execution_count": 103,
   "metadata": {},
   "outputs": [
    {
     "name": "stdout",
     "output_type": "stream",
     "text": [
      "0.9170096063100394\n"
     ]
    }
   ],
   "source": [
    "#let's calculate the average of these scores\n",
    "print(np.mean(predicted_C_V[\"test_score\"]))"
   ]
  },
  {
   "cell_type": "markdown",
   "metadata": {},
   "source": [
    "**SO WE SEE THAT OUR ACCURACY USING CROSS VALIDATION HAS \"Increased  1.7%\" to 91.70%**"
   ]
  },
  {
   "cell_type": "markdown",
   "metadata": {},
   "source": [
    "--------------------------------------------------------------------------------------- **END** ------------------------------------------------------------------------"
   ]
  }
 ],
 "metadata": {
  "kernelspec": {
   "display_name": "Python 3",
   "language": "python",
   "name": "python3"
  },
  "language_info": {
   "codemirror_mode": {
    "name": "ipython",
    "version": 3
   },
   "file_extension": ".py",
   "mimetype": "text/x-python",
   "name": "python",
   "nbconvert_exporter": "python",
   "pygments_lexer": "ipython3",
   "version": "3.8.5"
  }
 },
 "nbformat": 4,
 "nbformat_minor": 2
}
